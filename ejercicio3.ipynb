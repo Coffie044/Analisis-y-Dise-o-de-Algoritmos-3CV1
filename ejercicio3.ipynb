{
  "nbformat": 4,
  "nbformat_minor": 0,
  "metadata": {
    "colab": {
      "provenance": []
    },
    "kernelspec": {
      "name": "python3",
      "display_name": "Python 3"
    },
    "language_info": {
      "name": "python"
    }
  },
  "cells": [
    {
      "cell_type": "code",
      "execution_count": 3,
      "metadata": {
        "id": "wPbOMbAp-zjr"
      },
      "outputs": [],
      "source": [
        "def square_root(x):\n",
        "  if(x==0 or x==1):\n",
        "    return x\n",
        "  l, r, ans=0, x//2, 0\n",
        "  while(l<=r):\n",
        "    mid=l+(r-l)//2\n",
        "    if(mid<=x//mid):\n",
        "      l=mid+1\n",
        "      ans=mid\n",
        "    else:\n",
        "      r=mid-1\n",
        "  return ans"
      ]
    },
    {
      "cell_type": "code",
      "source": [
        "x=int(input(\"Ingrese un numero: \"))\n",
        "print(f'La raiz cuadrada de {x} es {square_root(x)}')"
      ],
      "metadata": {
        "colab": {
          "base_uri": "https://localhost:8080/"
        },
        "id": "oyshEjmNCLto",
        "outputId": "98b1defa-f4f6-4d66-d630-e67602d5e613"
      },
      "execution_count": 5,
      "outputs": [
        {
          "output_type": "stream",
          "name": "stdout",
          "text": [
            "Ingrese un numero: 16\n",
            "La raiz cuadrada de 16 es 4\n"
          ]
        }
      ]
    }
  ]
}