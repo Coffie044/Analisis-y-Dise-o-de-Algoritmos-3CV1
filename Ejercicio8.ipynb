{
 "cells": [
  {
   "cell_type": "markdown",
   "metadata": {},
   "source": [
    "# **Hernández Rodríguez Jorge Eduardo - 3CV1 - Ejercicio de Laboratorio 8**"
   ]
  },
  {
   "cell_type": "code",
   "execution_count": 4,
   "metadata": {},
   "outputs": [],
   "source": [
    "def maneras_posibles(n):\n",
    "    if(n==0 or n==1):\n",
    "        return 1\n",
    "    elif(n==2):\n",
    "        return 2\n",
    "    else:\n",
    "        maneras=[0]*(n+1)\n",
    "        maneras[0]=1\n",
    "        maneras[1]=1\n",
    "        maneras[2]=2\n",
    "        for i in range(3, n+1):\n",
    "            maneras[i]=maneras[i-1]+maneras[i-2]+maneras[i-3]\n",
    "        return maneras[n]"
   ]
  },
  {
   "cell_type": "markdown",
   "metadata": {},
   "source": [
    "## Caso de prueba 1"
   ]
  },
  {
   "cell_type": "code",
   "execution_count": 5,
   "metadata": {},
   "outputs": [
    {
     "name": "stdout",
     "output_type": "stream",
     "text": [
      "El número de formas posibles de subir la escalera de 5 peldaños es: 13\n"
     ]
    }
   ],
   "source": [
    "n=int(input(\"Ingrese el número de peldaños de la escalera: \"))\n",
    "maneras=maneras_posibles(n)\n",
    "print(\"El número de formas posibles de subir la escalera de\", n, \"peldaños es:\", maneras)"
   ]
  },
  {
   "cell_type": "markdown",
   "metadata": {},
   "source": [
    "## Caso de prueba 2"
   ]
  },
  {
   "cell_type": "code",
   "execution_count": 6,
   "metadata": {},
   "outputs": [
    {
     "name": "stdout",
     "output_type": "stream",
     "text": [
      "El número de formas posibles de subir la escalera de 9 peldaños es: 149\n"
     ]
    }
   ],
   "source": [
    "n=int(input(\"Ingrese el número de peldaños de la escalera: \"))\n",
    "maneras=maneras_posibles(n)\n",
    "print(\"El número de formas posibles de subir la escalera de\", n, \"peldaños es:\", maneras)"
   ]
  },
  {
   "cell_type": "markdown",
   "metadata": {},
   "source": [
    "## Caso de prueba 3"
   ]
  },
  {
   "cell_type": "code",
   "execution_count": 7,
   "metadata": {},
   "outputs": [
    {
     "name": "stdout",
     "output_type": "stream",
     "text": [
      "El número de formas posibles de subir la escalera de 3 peldaños es: 4\n"
     ]
    }
   ],
   "source": [
    "n=int(input(\"Ingrese el número de peldaños de la escalera: \"))\n",
    "maneras=maneras_posibles(n)\n",
    "print(\"El número de formas posibles de subir la escalera de\", n, \"peldaños es:\", maneras)"
   ]
  },
  {
   "cell_type": "markdown",
   "metadata": {},
   "source": [
    "## Caso de prueba 4"
   ]
  },
  {
   "cell_type": "code",
   "execution_count": 8,
   "metadata": {},
   "outputs": [
    {
     "name": "stdout",
     "output_type": "stream",
     "text": [
      "El número de formas posibles de subir la escalera de 12 peldaños es: 927\n"
     ]
    }
   ],
   "source": [
    "n=int(input(\"Ingrese el número de peldaños de la escalera: \"))\n",
    "maneras=maneras_posibles(n)\n",
    "print(\"El número de formas posibles de subir la escalera de\", n, \"peldaños es:\", maneras)"
   ]
  }
 ],
 "metadata": {
  "kernelspec": {
   "display_name": "Python 3",
   "language": "python",
   "name": "python3"
  },
  "language_info": {
   "codemirror_mode": {
    "name": "ipython",
    "version": 3
   },
   "file_extension": ".py",
   "mimetype": "text/x-python",
   "name": "python",
   "nbconvert_exporter": "python",
   "pygments_lexer": "ipython3",
   "version": "3.11.9"
  }
 },
 "nbformat": 4,
 "nbformat_minor": 2
}
