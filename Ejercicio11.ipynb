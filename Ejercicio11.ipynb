{
 "cells": [
  {
   "cell_type": "markdown",
   "metadata": {},
   "source": [
    "# **Hernández Rodríguez Jorge Eduardo - 3CV1 - Ejercicio de Laboratorio 11**"
   ]
  },
  {
   "cell_type": "code",
   "execution_count": 26,
   "metadata": {},
   "outputs": [],
   "source": [
    "def rutas_posibles(laberinto):\n",
    "    m=len(laberinto)\n",
    "    n=len(laberinto[0])\n",
    "    if(laberinto[0][0]==1 or laberinto[m-1][n-1]==1):\n",
    "        return 0\n",
    "    dp=[[0]*n for _ in range(m)]\n",
    "    dp[0][0]=1\n",
    "    for j in range(1, n):\n",
    "        dp[0][j]=dp[0][j-1] if laberinto[0][j]==0 else 0\n",
    "    for i in range(1, m):\n",
    "        dp[i][0]=dp[i-1][0] if laberinto[i][0]==0 else 0\n",
    "    for i in range(1, m):\n",
    "        for j in range(1, n):\n",
    "            if(laberinto[i][j])==0:\n",
    "                dp[i][j]=dp[i-1][j]+dp[i][j-1]\n",
    "            else:\n",
    "                dp[i][j]=0\n",
    "    return dp[m-1][n-1]"
   ]
  },
  {
   "cell_type": "code",
   "execution_count": 27,
   "metadata": {},
   "outputs": [
    {
     "name": "stdout",
     "output_type": "stream",
     "text": [
      "[2, 1, 0]\n",
      "[0, 0, 1]\n",
      "[0, 0, 0]\n",
      "Rutas posibles: 2\n"
     ]
    }
   ],
   "source": [
    "import random\n",
    "m=3\n",
    "n=3\n",
    "laberinto=[[0 for _ in range(n)] for _ in range(m)]\n",
    "for fila in laberinto:\n",
    "    fila[random.randrange(0, n)]=1\n",
    "ficha=2\n",
    "laberinto[0][0]=ficha\n",
    "laberinto[m-1][n-1]=0\n",
    "for fila in laberinto:\n",
    "    print(fila)\n",
    "print(f'Rutas posibles: {rutas_posibles(laberinto)}')\n"
   ]
  }
 ],
 "metadata": {
  "kernelspec": {
   "display_name": "Python 3",
   "language": "python",
   "name": "python3"
  },
  "language_info": {
   "codemirror_mode": {
    "name": "ipython",
    "version": 3
   },
   "file_extension": ".py",
   "mimetype": "text/x-python",
   "name": "python",
   "nbconvert_exporter": "python",
   "pygments_lexer": "ipython3",
   "version": "3.11.9"
  }
 },
 "nbformat": 4,
 "nbformat_minor": 2
}
