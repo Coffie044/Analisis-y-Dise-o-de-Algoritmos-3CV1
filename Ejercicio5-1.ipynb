{
 "cells": [
  {
   "cell_type": "markdown",
   "metadata": {},
   "source": [
    "# **Hernández Rodríguez Jorge Eduardo - 3CV1 - Ejercicio de Laboratorio 5 - 1**"
   ]
  },
  {
   "cell_type": "markdown",
   "metadata": {},
   "source": [
    "## Solución al problema de la mochila fraccionaria"
   ]
  },
  {
   "cell_type": "code",
   "execution_count": 1,
   "metadata": {},
   "outputs": [],
   "source": [
    "def mochila_fraccionaria(valor, peso, W):\n",
    "    ratio=[(valor[i]/peso[i], i) for i in range(len(valor))]\n",
    "    ratio.sort(reverse=True)\n",
    "    print(f'Ratio: {ratio}')\n",
    "    res=0\n",
    "    pesoT=W\n",
    "    for ratio, i in ratio:\n",
    "        if peso[i]<=pesoT:\n",
    "            res+=valor[i]\n",
    "            pesoT-=peso[i]\n",
    "            print(f'Articulo {i+1} agregado a la mochila.')\n",
    "        else:\n",
    "            res+=(valor[i]/peso[i])*pesoT\n",
    "            print(f'{pesoT/peso[i]} partes del articulo {i+1} agregado a la mochila.')\n",
    "            break\n",
    "    return res"
   ]
  },
  {
   "cell_type": "markdown",
   "metadata": {},
   "source": [
    "## Caso visto en clase"
   ]
  },
  {
   "cell_type": "code",
   "execution_count": 2,
   "metadata": {},
   "outputs": [
    {
     "name": "stdout",
     "output_type": "stream",
     "text": [
      "Ratio: [(6.0, 0), (5.0, 1), (4.0, 2)]\n",
      "Articulo 1 agregado a la mochila.\n",
      "Articulo 2 agregado a la mochila.\n",
      "0.6666666666666666 partes del articulo 3 agregado a la mochila.\n",
      "El máximo valor obtenido es: 240.0\n"
     ]
    }
   ],
   "source": [
    "valor=[60, 100, 120]\n",
    "peso=[10, 20, 30]\n",
    "W=50\n",
    "print(\"El máximo valor obtenido es:\", mochila_fraccionaria(valor, peso, W))"
   ]
  },
  {
   "cell_type": "markdown",
   "metadata": {},
   "source": [
    "## 1er caso adicional de prueba"
   ]
  },
  {
   "cell_type": "code",
   "execution_count": 3,
   "metadata": {},
   "outputs": [
    {
     "name": "stdout",
     "output_type": "stream",
     "text": [
      "Ratio: [(6.0, 2), (5.0, 0), (4.0, 1), (3.6666666666666665, 3)]\n",
      "Articulo 3 agregado a la mochila.\n",
      "Articulo 1 agregado a la mochila.\n",
      "0.6666666666666666 partes del articulo 2 agregado a la mochila.\n",
      "El máximo valor obtenido es: 530.0\n"
     ]
    }
   ],
   "source": [
    "valor=[150, 120, 300, 220]\n",
    "peso=[30, 30, 50, 60]\n",
    "W=100\n",
    "print(\"El máximo valor obtenido es:\", mochila_fraccionaria(valor, peso, W))"
   ]
  },
  {
   "cell_type": "markdown",
   "metadata": {},
   "source": [
    "## 2do caso adicional de prueba"
   ]
  },
  {
   "cell_type": "code",
   "execution_count": 4,
   "metadata": {},
   "outputs": [
    {
     "name": "stdout",
     "output_type": "stream",
     "text": [
      "Ratio: [(6.0, 4), (1.5, 2), (1.3333333333333333, 1), (0.6, 0), (0.1111111111111111, 3)]\n",
      "Articulo 5 agregado a la mochila.\n",
      "Articulo 3 agregado a la mochila.\n",
      "Articulo 2 agregado a la mochila.\n",
      "0.9 partes del articulo 1 agregado a la mochila.\n",
      "El máximo valor obtenido es: 152.0\n"
     ]
    }
   ],
   "source": [
    "valor=[30, 20, 45, 10, 60]\n",
    "peso=[50, 15, 30, 90, 10]\n",
    "W=100\n",
    "print(\"El máximo valor obtenido es:\", mochila_fraccionaria(valor, peso, W))"
   ]
  },
  {
   "cell_type": "markdown",
   "metadata": {},
   "source": [
    "## 3er caso adicional de prueba"
   ]
  },
  {
   "cell_type": "code",
   "execution_count": 5,
   "metadata": {},
   "outputs": [
    {
     "name": "stdout",
     "output_type": "stream",
     "text": [
      "Ratio: [(20.0, 1), (20.0, 0), (15.0, 2), (13.333333333333334, 3), (12.5, 4), (12.0, 5)]\n",
      "Articulo 2 agregado a la mochila.\n",
      "Articulo 1 agregado a la mochila.\n",
      "Articulo 3 agregado a la mochila.\n",
      "Articulo 4 agregado a la mochila.\n",
      "Articulo 5 agregado a la mochila.\n",
      "0.9 partes del articulo 6 agregado a la mochila.\n",
      "El máximo valor obtenido es: 2040.0\n"
     ]
    }
   ],
   "source": [
    "valor=[100, 200, 300, 400, 500, 600]\n",
    "peso=[5, 10, 20, 30, 40, 50]\n",
    "W=150\n",
    "print(\"El máximo valor obtenido es:\", mochila_fraccionaria(valor, peso, W))"
   ]
  }
 ],
 "metadata": {
  "kernelspec": {
   "display_name": "Python 3",
   "language": "python",
   "name": "python3"
  },
  "language_info": {
   "codemirror_mode": {
    "name": "ipython",
    "version": 3
   },
   "file_extension": ".py",
   "mimetype": "text/x-python",
   "name": "python",
   "nbconvert_exporter": "python",
   "pygments_lexer": "ipython3",
   "version": "3.11.9"
  }
 },
 "nbformat": 4,
 "nbformat_minor": 2
}
