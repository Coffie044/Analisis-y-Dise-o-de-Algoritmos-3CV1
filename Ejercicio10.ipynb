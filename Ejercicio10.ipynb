{
 "cells": [
  {
   "cell_type": "markdown",
   "metadata": {},
   "source": [
    "# **Hernández Rodríguez Jorge Eduardo - 3CV1 - Ejercicio de Laboratorio 10**"
   ]
  },
  {
   "cell_type": "code",
   "execution_count": 11,
   "metadata": {},
   "outputs": [
    {
     "name": "stdout",
     "output_type": "stream",
     "text": [
      "Estado final alcanzado: (4, 3)\n",
      "(0, 0)\n",
      "(5, 0)\n",
      "(2, 3)\n",
      "(2, 0)\n",
      "(0, 2)\n",
      "(5, 2)\n",
      "(4, 3)\n"
     ]
    }
   ],
   "source": [
    "from collections import deque\n",
    "def jarras():\n",
    "    jarra_cap1=5\n",
    "    jarra_cap2=3\n",
    "    estado_inicial=(0, 0)\n",
    "    realizado=set()\n",
    "    cola=deque([(estado_inicial, [])])\n",
    "    while(cola):\n",
    "        (jarra1, jarra2), act=cola.popleft()\n",
    "        nueva_act=act+[(jarra1, jarra2)]\n",
    "        if(jarra1==4 or jarra2==4):\n",
    "            print(f\"Estado final alcanzado: ({jarra1}, {jarra2})\")\n",
    "            for paso in nueva_act:\n",
    "                print(paso)\n",
    "            return\n",
    "        if((jarra1, jarra2) in realizado):\n",
    "            continue\n",
    "        realizado.add((jarra1, jarra2))\n",
    "        estados_siguientes=[]\n",
    "        estados_siguientes.append((jarra_cap1, jarra2))\n",
    "        estados_siguientes.append((jarra1, jarra_cap2))\n",
    "        estados_siguientes.append((0, jarra2))\n",
    "        estados_siguientes.append((jarra1, 0))\n",
    "        jar1_a_jar2=min(jarra1, jarra_cap2-jarra2)\n",
    "        estados_siguientes.append((jarra1-jar1_a_jar2, jarra2+jar1_a_jar2))\n",
    "        jar2_a_jar1=min(jarra2, jarra_cap1-jarra1)\n",
    "        estados_siguientes.append((jarra1+jar2_a_jar1, jarra2-jar2_a_jar1))\n",
    "        for estado in estados_siguientes:\n",
    "            if(estado not in realizado):\n",
    "                cola.append((estado, nueva_act))\n",
    "    print(\"No se pudo encontrar una solución.\")\n",
    "jarras()"
   ]
  }
 ],
 "metadata": {
  "kernelspec": {
   "display_name": "Python 3",
   "language": "python",
   "name": "python3"
  },
  "language_info": {
   "codemirror_mode": {
    "name": "ipython",
    "version": 3
   },
   "file_extension": ".py",
   "mimetype": "text/x-python",
   "name": "python",
   "nbconvert_exporter": "python",
   "pygments_lexer": "ipython3",
   "version": "3.11.9"
  }
 },
 "nbformat": 4,
 "nbformat_minor": 2
}
