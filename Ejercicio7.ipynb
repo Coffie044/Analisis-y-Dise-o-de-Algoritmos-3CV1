{
 "cells": [
  {
   "cell_type": "markdown",
   "metadata": {},
   "source": [
    "# **Hernández Rodríguez Jorge Eduardo - 3CV1 - Ejercicio de Laboratorio 7**"
   ]
  },
  {
   "cell_type": "code",
   "execution_count": 11,
   "metadata": {},
   "outputs": [],
   "source": [
    "import heapq\n",
    "import collections\n",
    "import pickle\n",
    "class Node:\n",
    "    def __init__(self, char, freq):\n",
    "        self.char=char\n",
    "        self.freq=freq\n",
    "        self.left=None\n",
    "        self.right=None\n",
    "    def __lt__(self, other):\n",
    "        return self.freq<other.freq"
   ]
  },
  {
   "cell_type": "code",
   "execution_count": 12,
   "metadata": {},
   "outputs": [],
   "source": [
    "def count_frequency(text):\n",
    "    return collections.Counter(text)"
   ]
  },
  {
   "cell_type": "code",
   "execution_count": 13,
   "metadata": {},
   "outputs": [],
   "source": [
    "def build_huffman_tree(freq_dict):\n",
    "    heap=[Node(char, freq) for char, freq in freq_dict.items()]\n",
    "    heapq.heapify(heap)\n",
    "    while len(heap)>1:\n",
    "        left=heapq.heappop(heap)\n",
    "        right=heapq.heappop(heap)\n",
    "        merged=Node(None, left.freq + right.freq)\n",
    "        merged.left=left\n",
    "        merged.right=right\n",
    "        heapq.heappush(heap, merged)\n",
    "    return heap[0]"
   ]
  },
  {
   "cell_type": "code",
   "execution_count": 14,
   "metadata": {},
   "outputs": [],
   "source": [
    "def build_huffman_codes(node, prefix=\"\", codes={}):\n",
    "    if node:\n",
    "        if node.char is not None:\n",
    "            codes[node.char]=prefix\n",
    "        build_huffman_codes(node.left, prefix+\"0\", codes)\n",
    "        build_huffman_codes(node.right, prefix+\"1\", codes)\n",
    "    return codes"
   ]
  },
  {
   "cell_type": "code",
   "execution_count": 15,
   "metadata": {},
   "outputs": [],
   "source": [
    "def huffman_encoding(text):\n",
    "    freq_dict=count_frequency(text)\n",
    "    root=build_huffman_tree(freq_dict)\n",
    "    codes=build_huffman_codes(root)\n",
    "    encoded_text=''.join([codes[char] for char in text])\n",
    "    return encoded_text, codes"
   ]
  },
  {
   "cell_type": "code",
   "execution_count": 16,
   "metadata": {},
   "outputs": [],
   "source": [
    "def huffman_decoding(encoded_text, codes):\n",
    "    reversed_codes={v: k for k, v in codes.items()}\n",
    "    decoded_text=\"\"\n",
    "    code=\"\"\n",
    "    for bit in encoded_text:\n",
    "        code+=bit\n",
    "        if code in reversed_codes:\n",
    "            decoded_text+=reversed_codes[code]\n",
    "            code=\"\"\n",
    "    return decoded_text"
   ]
  },
  {
   "cell_type": "code",
   "execution_count": 17,
   "metadata": {},
   "outputs": [
    {
     "name": "stdout",
     "output_type": "stream",
     "text": [
      "Texto original: hola mundo\n",
      "Texto codificado: 01010110101100011111100111000110\n",
      "Texto decodificado: hola mundo\n"
     ]
    }
   ],
   "source": [
    "def main():\n",
    "    text=input(\"Introduce el texto a codificar: \")\n",
    "    encoded_text, codes=huffman_encoding(text)\n",
    "    with open(\"original_text.txt\", \"w\") as f:\n",
    "        f.write(text)\n",
    "    with open(\"encoded_text.txt\", \"wb\") as f:\n",
    "        pickle.dump(encoded_text, f)\n",
    "    with open(\"codes.pkl\", \"wb\") as f:\n",
    "        pickle.dump(codes, f)\n",
    "    decoded_text = huffman_decoding(encoded_text, codes)\n",
    "    print(\"Texto original:\", text)\n",
    "    print(\"Texto codificado:\", encoded_text)\n",
    "    print(\"Texto decodificado:\", decoded_text)\n",
    "if __name__==\"__main__\":\n",
    "    main()"
   ]
  }
 ],
 "metadata": {
  "kernelspec": {
   "display_name": "Python 3",
   "language": "python",
   "name": "python3"
  },
  "language_info": {
   "codemirror_mode": {
    "name": "ipython",
    "version": 3
   },
   "file_extension": ".py",
   "mimetype": "text/x-python",
   "name": "python",
   "nbconvert_exporter": "python",
   "pygments_lexer": "ipython3",
   "version": "3.11.9"
  }
 },
 "nbformat": 4,
 "nbformat_minor": 2
}
