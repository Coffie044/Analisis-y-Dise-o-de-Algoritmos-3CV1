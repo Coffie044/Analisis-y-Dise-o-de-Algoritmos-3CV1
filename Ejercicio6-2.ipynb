{
 "cells": [
  {
   "cell_type": "markdown",
   "metadata": {},
   "source": [
    "# **Hernández Rodríguez Jorge Eduardo - 3CV1 - Ejercicio de Laboratorio 6 - 2**"
   ]
  },
  {
   "cell_type": "markdown",
   "metadata": {},
   "source": [
    "## Solución al problema de policias y ladrones"
   ]
  },
  {
   "cell_type": "code",
   "execution_count": 2,
   "metadata": {},
   "outputs": [],
   "source": [
    "def ladrones_atrapados(arr, k):\n",
    "    ladrones_capt=0\n",
    "    for i in range(len(arr)):\n",
    "        if(arr[i]=='P'):\n",
    "            imbP=i\n",
    "            break\n",
    "    for i in range(len(arr)):\n",
    "        if(arr[i]=='T'):\n",
    "            imbT=i\n",
    "            break\n",
    "    while(imbP<len(arr) and imbT<len(arr)):\n",
    "        if(abs(imbT-imbP)<=k):\n",
    "            ladrones_capt+=1\n",
    "            if(imbP+1<len(arr) and imbT+1<len(arr)):\n",
    "                    existeP=0\n",
    "                    existeT=0\n",
    "                    for i in range(imbP+1, len(arr)):\n",
    "                        if(arr[i]=='P'):\n",
    "                            existeP=1\n",
    "                            imbP=i\n",
    "                            break\n",
    "                    if(existeP==0):\n",
    "                        return ladrones_capt\n",
    "                    for i in range(imbT+1, len(arr)):\n",
    "                        if(arr[i]=='T'):\n",
    "                            existeT=1\n",
    "                            imbT=i\n",
    "                            break\n",
    "                    if(existeT==0):\n",
    "                        return ladrones_capt\n",
    "            else:\n",
    "                return ladrones_capt\n",
    "        else:\n",
    "            if(imbP<imbT):\n",
    "                existeP=0\n",
    "                existeT=0\n",
    "                for i in range(imbP+1, len(arr)):\n",
    "                    if(arr[i]=='P'):\n",
    "                        existeP=1\n",
    "                        imbP=i\n",
    "                        break\n",
    "                if(existeP==0):\n",
    "                    return ladrones_capt\n",
    "            else:\n",
    "                for i in range(imbT+1, len(arr)):\n",
    "                    if(arr[i]=='T'):\n",
    "                        existeT=1\n",
    "                        imbT=i\n",
    "                        break\n",
    "                if(existeT==0):\n",
    "                    return ladrones_capt\n",
    "    return ladrones_capt"
   ]
  },
  {
   "cell_type": "markdown",
   "metadata": {},
   "source": [
    "## 1er. caso de prueba"
   ]
  },
  {
   "cell_type": "code",
   "execution_count": 3,
   "metadata": {},
   "outputs": [
    {
     "name": "stdout",
     "output_type": "stream",
     "text": [
      "Cantidad maxima de ladrones atrapados: 4\n"
     ]
    }
   ],
   "source": [
    "arr=['P', 'P', 'T', 'T', 'P', 'P', 'T', 'T', 'P', 'P']\n",
    "k=1\n",
    "print(f'Cantidad maxima de ladrones atrapados: {ladrones_atrapados(arr, k)}')"
   ]
  },
  {
   "cell_type": "markdown",
   "metadata": {},
   "source": [
    "## 2do. caso de prueba"
   ]
  },
  {
   "cell_type": "code",
   "execution_count": 4,
   "metadata": {},
   "outputs": [
    {
     "name": "stdout",
     "output_type": "stream",
     "text": [
      "Cantidad maxima de ladrones atrapados: 2\n"
     ]
    }
   ],
   "source": [
    "arr=['P', 'P', 'P', 'P', 'P', 'P', 'P', 'P', 'T', 'T']\n",
    "k=5\n",
    "print(f'Cantidad maxima de ladrones atrapados: {ladrones_atrapados(arr, k)}')"
   ]
  },
  {
   "cell_type": "markdown",
   "metadata": {},
   "source": [
    "## 3er. caso de prueba"
   ]
  },
  {
   "cell_type": "code",
   "execution_count": 5,
   "metadata": {},
   "outputs": [
    {
     "name": "stdout",
     "output_type": "stream",
     "text": [
      "Cantidad maxima de ladrones atrapados: 5\n"
     ]
    }
   ],
   "source": [
    "arr=['P', 'P', 'P', 'P', 'P', 'T', 'T', 'T', 'T', 'T']\n",
    "k=5\n",
    "print(f'Cantidad maxima de ladrones atrapados: {ladrones_atrapados(arr, k)}')"
   ]
  }
 ],
 "metadata": {
  "kernelspec": {
   "display_name": "Python 3",
   "language": "python",
   "name": "python3"
  },
  "language_info": {
   "codemirror_mode": {
    "name": "ipython",
    "version": 3
   },
   "file_extension": ".py",
   "mimetype": "text/x-python",
   "name": "python",
   "nbconvert_exporter": "python",
   "pygments_lexer": "ipython3",
   "version": "3.11.9"
  }
 },
 "nbformat": 4,
 "nbformat_minor": 2
}
