{
 "cells": [
  {
   "cell_type": "markdown",
   "metadata": {},
   "source": [
    "# **Hernández Rodríguez Jorge Eduardo - 3CV1 - Ejercicio de Laboratorio 6 - 1**"
   ]
  },
  {
   "cell_type": "markdown",
   "metadata": {},
   "source": [
    "## Solución al problema de asignación de bloques de memoria: el primero"
   ]
  },
  {
   "cell_type": "code",
   "execution_count": 59,
   "metadata": {},
   "outputs": [],
   "source": [
    "def asignacion(tam_procesos, bloques_memoria):\n",
    "    bloques_modificados=bloques_memoria\n",
    "    for i in range(len(tam_procesos)):\n",
    "        for j in range(len(bloques_memoria)):\n",
    "            if(tam_procesos[i]<=bloques_modificados[j]):\n",
    "                bloques_modificados[j]-=tam_procesos[i]\n",
    "                print(f'Proceso {i+1} asignado al bloque de memoria {j+1}.')\n",
    "                print(f'Memoria actual de los bloques: {bloques_modificados}')\n",
    "                break\n",
    "    return bloques_modificados"
   ]
  },
  {
   "cell_type": "code",
   "execution_count": 60,
   "metadata": {},
   "outputs": [
    {
     "name": "stdout",
     "output_type": "stream",
     "text": [
      "Proceso 1 asignado al bloque de memoria 2.\n",
      "Memoria actual de los bloques: [150, 50]\n",
      "Proceso 2 asignado al bloque de memoria 1.\n",
      "Memoria actual de los bloques: [125, 50]\n",
      "Proceso 3 asignado al bloque de memoria 1.\n",
      "Memoria actual de los bloques: [0, 50]\n",
      "Proceso 4 asignado al bloque de memoria 2.\n",
      "Memoria actual de los bloques: [0, 0]\n",
      "Memoria libre total: 0\n"
     ]
    }
   ],
   "source": [
    "tam_procesos=[300, 25, 125, 50]\n",
    "bloques_memoria=[150, 350]\n",
    "memoria_final=asignacion(tam_procesos, bloques_memoria)\n",
    "print(f'Memoria libre total: {sum(memoria_final)}')"
   ]
  },
  {
   "cell_type": "markdown",
   "metadata": {},
   "source": [
    "## Solución al problema de asignación de bloques de memoria: el mejor"
   ]
  },
  {
   "cell_type": "code",
   "execution_count": 64,
   "metadata": {},
   "outputs": [],
   "source": [
    "def asignacion(tam_procesos, bloques_memoria):\n",
    "    bloques_modificados=bloques_memoria\n",
    "    for i in range(len(tam_procesos)):\n",
    "        bloque_a_asignar=-1\n",
    "        for j in range(len(bloques_modificados)):\n",
    "            if(tam_procesos[i]<=bloques_modificados[j]):\n",
    "                bloque_a_asignar=j\n",
    "                break\n",
    "        if(bloque_a_asignar==-1):\n",
    "            return bloques_modificados\n",
    "        for j in range(bloque_a_asignar, len(bloques_modificados)):\n",
    "            if(bloques_modificados[j]<bloques_modificados[bloque_a_asignar] and tam_procesos[i]<=bloques_modificados[j]):\n",
    "                bloque_a_asignar=j\n",
    "        bloques_modificados[bloque_a_asignar]-=tam_procesos[i]\n",
    "        print(f'Proceso {i+1} asignado al bloque de memoria {bloque_a_asignar+1}.')\n",
    "        print(f'Memoria actual de los bloques: {bloques_modificados}')\n",
    "    return bloques_modificados"
   ]
  },
  {
   "cell_type": "code",
   "execution_count": 65,
   "metadata": {},
   "outputs": [
    {
     "name": "stdout",
     "output_type": "stream",
     "text": [
      "Proceso 1 asignado al bloque de memoria 2.\n",
      "Memoria actual de los bloques: [150, 50]\n",
      "Proceso 2 asignado al bloque de memoria 2.\n",
      "Memoria actual de los bloques: [150, 25]\n",
      "Proceso 3 asignado al bloque de memoria 1.\n",
      "Memoria actual de los bloques: [25, 25]\n",
      "Memoria libre total: 50\n"
     ]
    }
   ],
   "source": [
    "tam_procesos=[300, 25, 125, 50]\n",
    "bloques_memoria=[150, 350]\n",
    "memoria_final=asignacion(tam_procesos, bloques_memoria)\n",
    "print(f'Memoria libre total: {sum(memoria_final)}')"
   ]
  }
 ],
 "metadata": {
  "kernelspec": {
   "display_name": "Python 3",
   "language": "python",
   "name": "python3"
  },
  "language_info": {
   "codemirror_mode": {
    "name": "ipython",
    "version": 3
   },
   "file_extension": ".py",
   "mimetype": "text/x-python",
   "name": "python",
   "nbconvert_exporter": "python",
   "pygments_lexer": "ipython3",
   "version": "3.11.9"
  }
 },
 "nbformat": 4,
 "nbformat_minor": 2
}
