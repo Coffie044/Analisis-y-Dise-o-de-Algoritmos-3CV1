{
 "cells": [
  {
   "cell_type": "markdown",
   "metadata": {},
   "source": [
    "# **Hernández Rodríguez Jorge Eduardo - 3CV1 - Ejercicio de Laboratorio 5 - 2**"
   ]
  },
  {
   "cell_type": "markdown",
   "metadata": {},
   "source": [
    "## Solución al problema de asignación de bloques de memoria"
   ]
  },
  {
   "cell_type": "code",
   "execution_count": 66,
   "metadata": {},
   "outputs": [],
   "source": [
    "def asignacion(tam_procesos, bloques_memoria):\n",
    "    bloques_modificados=bloques_memoria\n",
    "    for i in range(len(tam_procesos)):\n",
    "        for j in range(len(bloques_memoria)):\n",
    "            if(tam_procesos[i]<=bloques_modificados[j]):\n",
    "                bloques_modificados[j]-=tam_procesos[i]\n",
    "                print(f'Proceso {i+1} asignado al bloque de memoria {j+1}.')\n",
    "                break\n",
    "    return bloques_modificados"
   ]
  },
  {
   "cell_type": "markdown",
   "metadata": {},
   "source": [
    "## Caso visto en clase"
   ]
  },
  {
   "cell_type": "code",
   "execution_count": 71,
   "metadata": {},
   "outputs": [
    {
     "name": "stdout",
     "output_type": "stream",
     "text": [
      "Proceso 1 asignado al bloque de memoria 2.\n",
      "Proceso 2 asignado al bloque de memoria 5.\n",
      "Proceso 3 asignado al bloque de memoria 2.\n",
      "Bloques de memoria despues de las asignaciones: [100, 176, 200, 300, 183]\n",
      "Memoria libre: 959\n"
     ]
    }
   ],
   "source": [
    "tam_procesos=[212, 417, 112, 426]\n",
    "bloques_memoria=[100, 500, 200, 300, 600]\n",
    "memoria_final=asignacion(tam_procesos, bloques_memoria)\n",
    "print(f'Bloques de memoria despues de las asignaciones: {memoria_final}')\n",
    "print(f'Memoria libre: {sum(memoria_final)}')"
   ]
  },
  {
   "cell_type": "markdown",
   "metadata": {},
   "source": [
    "## Caso adicional de prueba"
   ]
  },
  {
   "cell_type": "code",
   "execution_count": 72,
   "metadata": {},
   "outputs": [
    {
     "name": "stdout",
     "output_type": "stream",
     "text": [
      "Proceso 1 asignado al bloque de memoria 5.\n",
      "Proceso 2 asignado al bloque de memoria 2.\n",
      "Proceso 3 asignado al bloque de memoria 1.\n",
      "Bloques de memoria despues de las asignaciones: [87, 150, 500, 100, 200]\n",
      "Memoria libre: 1037\n"
     ]
    }
   ],
   "source": [
    "tam_procesos=[700, 250, 113, 620]\n",
    "bloques_memoria=[200, 400, 500, 100, 900]\n",
    "memoria_final=asignacion(tam_procesos, bloques_memoria)\n",
    "print(f'Bloques de memoria despues de las asignaciones: {memoria_final}')\n",
    "print(f'Memoria libre: {sum(memoria_final)}')"
   ]
  }
 ],
 "metadata": {
  "kernelspec": {
   "display_name": "Python 3",
   "language": "python",
   "name": "python3"
  },
  "language_info": {
   "codemirror_mode": {
    "name": "ipython",
    "version": 3
   },
   "file_extension": ".py",
   "mimetype": "text/x-python",
   "name": "python",
   "nbconvert_exporter": "python",
   "pygments_lexer": "ipython3",
   "version": "3.11.9"
  }
 },
 "nbformat": 4,
 "nbformat_minor": 2
}
